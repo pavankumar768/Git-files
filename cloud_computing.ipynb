{
 "cells": [
  {
   "cell_type": "markdown",
   "id": "5a35b34b-afe8-4b86-9cb0-1ceaa9b4a03d",
   "metadata": {},
   "source": [
    "What Is Cloud Computing?\n",
    "Cloud Computing means storing and accessing the data and programs on remote servers that are hosted on the internet instead of the computer’s hard drive or local server. Cloud computing is also referred to as Internet-based computing, it is a technology where the resource is provided as a service through the Internet to the user. The data that is stored can be files, images, documents, or any other storable document.\n",
    "\n",
    "The following are some of the Operations that can be performed with Cloud Computing\n",
    "\n",
    "Storage, backup, and recovery of data\n",
    "Delivery of software on demand\n",
    "Development of new applications and services\n",
    "Streaming videos and audio\n",
    "\n",
    "Understanding How Cloud Computing Works?\n",
    "Cloud computing helps users in easily accessing computing resources like storage, and processing over internet rather than local hardwares. Here we discussing how it works in nutshell:\n",
    "\n",
    "Infrastructure: Cloud computing depends on remote network servers hosted on internet for store, manage, and process the data.\n",
    "On-Demand Acess: Users can access cloud services and resources based on-demand they can scale up or down the without having to invest for physical hardware.\n",
    "Types of Services: Cloud computing offers various benefits such as cost saving, scalability, reliability and acessibility it reduces capital expenditures, improves efficiency.\n",
    "Origins Of Cloud Computing\n",
    "Mainframe computing in the 1950s and the internet explosion in the 1990s came together to give rise to cloud computing. Since businesses like Amazon, Google, and Salesforce started providing web-based services in the early 2000s. The term “cloud computing” has gained popularity. Scalability, adaptability, and cost-effectiveness are to be facilitated by the concept’s on-demand internet-based access to computational resources.\n",
    "\n",
    "These days, cloud computing is pervasive, driving a wide range of services across markets and transforming the processing, storage, and retrieval of dataWhat is Virtualization In Cloud Computing?\n",
    "Virtualization is the software technology that helps in providing the logical isolation of physical resources. Creating logical isolation of physical resources such as RAM, CPU, and Storage.. over the cloud is known as Virtualization in Cloud Computing. In simple we can say creating types of Virtual Instances of computing resources over the cloud. It provides better management and utilization of hardware resources with logical isolation making the applications independent of others. It facilitates streamlining the resource allocation and enhancing scalability for multiple virtual computers within a single physical source offering cost-effectiveness and better optimization of resources.\n",
    "\n",
    "To know about this refer this Article – Virtualization in Cloud Computing and Types\n",
    "\n",
    "Architecture Of Cloud Computing\n",
    "Cloud computing architecture refers to the components and sub-components required for cloud computing. These components typically refer to:\n",
    "\n",
    "Front end ( Fat client, Thin client)\n",
    "Back-end platforms ( Servers, Storage )\n",
    "Cloud-based delivery and a network ( Internet, Intranet, Intercloud )\n",
    "Cloud-Computing-Architecture"
   ]
  },
  {
   "cell_type": "code",
   "execution_count": null,
   "id": "5f687d27-bd31-45ce-ba00-dd1056dc983b",
   "metadata": {},
   "outputs": [],
   "source": []
  }
 ],
 "metadata": {
  "kernelspec": {
   "display_name": "Python 3 (ipykernel)",
   "language": "python",
   "name": "python3"
  },
  "language_info": {
   "codemirror_mode": {
    "name": "ipython",
    "version": 3
   },
   "file_extension": ".py",
   "mimetype": "text/x-python",
   "name": "python",
   "nbconvert_exporter": "python",
   "pygments_lexer": "ipython3",
   "version": "3.12.7"
  }
 },
 "nbformat": 4,
 "nbformat_minor": 5
}
