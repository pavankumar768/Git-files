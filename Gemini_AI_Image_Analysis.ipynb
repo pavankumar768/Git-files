{
  "nbformat": 4,
  "nbformat_minor": 0,
  "metadata": {
    "colab": {
      "provenance": []
    },
    "kernelspec": {
      "name": "python3",
      "display_name": "Python 3"
    },
    "language_info": {
      "name": "python"
    }
  },
  "cells": [
    {
      "cell_type": "code",
      "execution_count": 6,
      "metadata": {
        "id": "_2H4C6NYXiVo"
      },
      "outputs": [],
      "source": [
        "%pip install -U -q \"google-generativeai>=0.7.2\""
      ]
    },
    {
      "cell_type": "code",
      "source": [
        "import google.generativeai as genai\n",
        "from google.colab import userdata\n",
        "GOOGLE_API_KEY = userdata.get('GOOGLE_API_I')\n",
        "genai.configure(api_key=GOOGLE_API_KEY)"
      ],
      "metadata": {
        "id": "Is0XKybnXyYQ"
      },
      "execution_count": 7,
      "outputs": []
    },
    {
      "cell_type": "code",
      "source": [
        "from google import genai\n",
        "from google.genai import types\n",
        "client= genai.Client(api_key=GOOGLE_API_KEY)"
      ],
      "metadata": {
        "id": "VlUB-eKZYewm"
      },
      "execution_count": 8,
      "outputs": []
    },
    {
      "cell_type": "code",
      "source": [
        "import pathlib\n",
        "import textwrap\n",
        "from IPython.display import display,Markdown\n",
        "def to_markdown(text):\n",
        "  text = text.replace('.',' *')\n",
        "  return Markdown(textwrap.indent(text,'>',predicate=lambda _:True))"
      ],
      "metadata": {
        "id": "95HFw8QkYk4W"
      },
      "execution_count": 9,
      "outputs": []
    },
    {
      "cell_type": "code",
      "source": [
        "import google.generativeai as genai\n",
        "import PIL.Image\n",
        "img = PIL.Image.open('/content/AD_GENIAI.jpg')\n",
        "img\n",
        "model = genai.GenerativeModel('gemini-1.5-flash')\n",
        "response = model.generate_content([\"Write a short, engaging blog post based on this picture\",img],stream=True)\n",
        "response.resolve()"
      ],
      "metadata": {
        "id": "MPpuD9E1aqFP"
      },
      "execution_count": 10,
      "outputs": []
    },
    {
      "cell_type": "code",
      "source": [
        "to_markdown(response.text)"
      ],
      "metadata": {
        "colab": {
          "base_uri": "https://localhost:8080/",
          "height": 480
        },
        "id": "nlMUAApDb9lJ",
        "outputId": "55f77eb7-9119-484b-ec5d-d2c2b4389ccf"
      },
      "execution_count": 11,
      "outputs": [
        {
          "output_type": "execute_result",
          "data": {
            "text/plain": [
              "<IPython.core.display.Markdown object>"
            ],
            "text/markdown": ">## Meal Prep Made Easy: Delicious & Healthy on the Go!\n>\n>Let's face it, sometimes juggling work, family, and a healthy lifestyle feels impossible *  But what if I told you there's a simple solution?  Enter: meal prepping!\n>\n>This isn't your grandma's sad desk lunch *  Check out these vibrant containers overflowing with goodness: perfectly portioned servings of delicious chicken and broccoli stir-fry served over fluffy rice *  Think colorful carrots, tender broccoli florets, and savory chicken – all packed with flavor and nutrients *\n>\n>Meal prepping doesn't have to be a chore *  Spend an hour or two on the weekend preparing several of these beauties, and you'll have healthy, satisfying lunches or dinners ready to grab and go throughout the week *  Say goodbye to unhealthy takeout and hello to effortless eating!\n>\n>**Ready to get started?**  Here are a few simple tips:\n>\n>* **Choose your favorite proteins and veggies:**  Get creative! Swap the chicken for tofu, beef, or shrimp * Experiment with different vegetables to keep things interesting *\n>* **Cook once, eat multiple times:**  Double or triple your recipes to make even more servings *\n>* **Portion it out:** Use containers like the ones pictured to easily manage your portions *\n>\n>So ditch the fast food and embrace the convenience and health benefits of meal prepping * Your taste buds and your waistline will thank you!  #mealprep #healthylifestyle #healthyeating #easyrecipes #lunchideas #dinnerideas\n"
          },
          "metadata": {},
          "execution_count": 11
        }
      ]
    },
    {
      "cell_type": "code",
      "source": [
        "response = model.generate_content([\"Generate an accurate caption for this page\",img])\n",
        "print(response.text)"
      ],
      "metadata": {
        "colab": {
          "base_uri": "https://localhost:8080/",
          "height": 451
        },
        "id": "hlxIjERicwUk",
        "outputId": "89c36e74-86a9-4afa-8351-1782e349dbe3"
      },
      "execution_count": 12,
      "outputs": [
        {
          "output_type": "stream",
          "name": "stdout",
          "text": [
            "Here are a few caption options for the image of prepared meal containers:\n",
            "\n",
            "**Option 1 (Simple & Direct):**\n",
            "\n",
            "> Healthy and delicious meal prep!  Chicken and broccoli with rice.\n",
            "\n",
            "**Option 2 (Slightly More Descriptive):**\n",
            "\n",
            "> Two perfectly portioned meals ready to go.  This chicken and veggie rice bowl is packed with flavor and nutrients.\n",
            "\n",
            "**Option 3 (Focus on Convenience):**\n",
            "\n",
            "> Weeknight dinners just got easier.  Meal prepping made simple with these tasty and healthy containers.\n",
            "\n",
            "**Option 4 (More Engaging):**\n",
            "\n",
            "> What's for dinner?  These chicken and broccoli rice bowls are the perfect healthy and convenient solution!  #mealprep #healthyfood #dinnerideas #easyrecipes\n",
            "\n",
            "**Option 5 (Question to Encourage Engagement):**\n",
            "\n",
            "> Chicken and broccoli or chicken and broccoli?  Which meal prep container would you choose?  Let us know in the comments! #mealprepsunday #healthylifestyle\n",
            "\n",
            "\n",
            "The best option will depend on the context where you plan to use the caption (e.g., social media, blog, website).\n",
            "\n"
          ]
        }
      ]
    },
    {
      "cell_type": "code",
      "source": [
        "from PIL import Image\n",
        "image_path = 'girl.jpg'\n",
        "image = Image.open(image_path)\n",
        "response = model.generate_content([\" what emotions can you detect in this image\",image])\n",
        "print(response.text)"
      ],
      "metadata": {
        "colab": {
          "base_uri": "https://localhost:8080/",
          "height": 186
        },
        "id": "bnSwrH5peY_Y",
        "outputId": "a85c23e1-d3b4-4fb1-ea2b-b3550ebe3e8a"
      },
      "execution_count": 13,
      "outputs": [
        {
          "output_type": "stream",
          "name": "stdout",
          "text": [
            "The woman in the image appears to be expressing:\n",
            "\n",
            "* **Confidence:** Her posture is upright, her gaze is direct, and her smile is self-assured.  The pointing gesture further suggests assertiveness.\n",
            "* **Friendliness:** The smile is warm and inviting.\n",
            "* **Helpfulness/Guidance:** The pointing gesture implies she is offering information or direction.\n",
            "* **Happiness/Positivity:** Her overall demeanor suggests a positive emotional state.\n",
            "\n",
            "There's no indication of negative emotions in the image.\n",
            "\n"
          ]
        }
      ]
    },
    {
      "cell_type": "code",
      "source": [
        "from PIL import Image\n",
        "image_path = 'img3.jpg'\n",
        "image = Image.open(image_path)\n",
        "response = model.generate_content([\" extract and read the text from this image\",image])\n",
        "print(response.text)"
      ],
      "metadata": {
        "colab": {
          "base_uri": "https://localhost:8080/",
          "height": 137
        },
        "id": "mssKIIPwjc8Z",
        "outputId": "c2935342-d098-4b0b-d975-6fd14143ff58"
      },
      "execution_count": 14,
      "outputs": [
        {
          "output_type": "stream",
          "name": "stdout",
          "text": [
            "Here's the text from the image:\n",
            "\n",
            "FAILURE is not the\n",
            "opposite of success\n",
            "it's PART OF\n",
            "SUCCESS\n"
          ]
        }
      ]
    },
    {
      "cell_type": "code",
      "source": [
        "image_path = \"logo.jpg\"\n",
        "image = Image.open(image_path)\n",
        "response = model.generate_content([\" what is this image, summarize it?\",image])\n",
        "print(response.text)"
      ],
      "metadata": {
        "id": "KwDlBOljj0i9",
        "colab": {
          "base_uri": "https://localhost:8080/",
          "height": 71
        },
        "outputId": "24bcc7fd-1ef6-40e3-8761-6feb22f940f7"
      },
      "execution_count": 16,
      "outputs": [
        {
          "output_type": "stream",
          "name": "stdout",
          "text": [
            "That's the logo for Amazon.  It's a wordmark showing the company name \"amazon\" in a bold, black sans-serif font, with a stylized orange smile underneath.  The smile is often interpreted as representing the company's commitment to customer satisfaction, or a representation of the Amazon River.\n",
            "\n"
          ]
        }
      ]
    },
    {
      "cell_type": "code",
      "source": [
        "image_path = 'product.jpg'\n",
        "image = Image.open(image_path)\n",
        "model1 = genai.GenerativeModel('gemini-1.5-flash')\n",
        "response = model1.generate_content([\" what is this image, summarize it?\",image])\n",
        "print(response.text)"
      ],
      "metadata": {
        "colab": {
          "base_uri": "https://localhost:8080/",
          "height": 71
        },
        "id": "dPqBAc4mNs6-",
        "outputId": "8fb5b059-a5eb-4a85-c79e-683cf2a6693a"
      },
      "execution_count": 17,
      "outputs": [
        {
          "output_type": "stream",
          "name": "stdout",
          "text": [
            "That's a pair of black over-ear headphones resting on a bright yellow background.  The image is a simple, clean product shot, likely for advertising or promotional purposes.\n",
            "\n"
          ]
        }
      ]
    },
    {
      "cell_type": "code",
      "source": [
        "response = model.generate_content([\"Suggest me similar products?\",image])\n",
        "print(response.text)"
      ],
      "metadata": {
        "colab": {
          "base_uri": "https://localhost:8080/",
          "height": 203
        },
        "id": "G3WXx460OYeK",
        "outputId": "dbeec742-5c4c-4320-d559-60ecbd5c3365"
      },
      "execution_count": 18,
      "outputs": [
        {
          "output_type": "stream",
          "name": "stdout",
          "text": [
            "That's a pair of over-ear headphones.  To suggest similar products, I need more information about what aspects of these headphones you like or dislike.  For example:\n",
            "\n",
            "* **Brand:** Do you prefer a specific brand? (e.g., Sony, Bose, Beats, Audio-Technica)\n",
            "* **Features:** Are you looking for noise cancellation, wireless connectivity (Bluetooth), a microphone, water resistance, a specific type of sound signature (bass-heavy, balanced, bright)?\n",
            "* **Price range:** What's your budget?\n",
            "* **Use case:** What will you primarily use them for? (e.g., music listening, gaming, phone calls, travel)\n",
            "* **Aesthetics:** Do you prefer a certain style or color?\n",
            "\n",
            "Once I have this information, I can give you much more relevant and helpful recommendations.\n",
            "\n"
          ]
        }
      ]
    },
    {
      "cell_type": "code",
      "source": [],
      "metadata": {
        "id": "Rd47a25yPmfB"
      },
      "execution_count": null,
      "outputs": []
    }
  ]
}