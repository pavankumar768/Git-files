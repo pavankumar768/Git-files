{
  "nbformat": 4,
  "nbformat_minor": 0,
  "metadata": {
    "colab": {
      "provenance": []
    },
    "kernelspec": {
      "name": "python3",
      "display_name": "Python 3"
    },
    "language_info": {
      "name": "python"
    }
  },
  "cells": [
    {
      "cell_type": "code",
      "execution_count": 6,
      "metadata": {
        "id": "_2H4C6NYXiVo"
      },
      "outputs": [],
      "source": [
        "%pip install -U -q \"google-generativeai>=0.7.2\""
      ]
    },
    {
      "cell_type": "code",
      "source": [
        "import google.generativeai as genai\n",
        "from google.colab import userdata\n",
        "GOOGLE_API_KEY = userdata.get('GOOGLE_API_I')\n",
        "genai.configure(api_key=GOOGLE_API_KEY)"
      ],
      "metadata": {
        "id": "Is0XKybnXyYQ"
      },
      "execution_count": 7,
      "outputs": []
    },
    {
      "cell_type": "code",
      "source": [
        "from google import genai\n",
        "from google.genai import types\n",
        "client= genai.Client(api_key=GOOGLE_API_KEY)"
      ],
      "metadata": {
        "id": "VlUB-eKZYewm"
      },
      "execution_count": 8,
      "outputs": []
    },
    {
      "cell_type": "code",
      "source": [
        "import pathlib\n",
        "import textwrap\n",
        "from IPython.display import display,Markdown\n",
        "def to_markdown(text):\n",
        "  text = text.replace('.',' *')\n",
        "  return Markdown(textwrap.indent(text,'>',predicate=lambda _:True))"
      ],
      "metadata": {
        "id": "95HFw8QkYk4W"
      },
      "execution_count": 9,
      "outputs": []
    },
    {
      "cell_type": "code",
      "source": [
        "import google.generativeai as genai\n",
        "import PIL.Image\n",
        "img = PIL.Image.open('/content/AD_GENIAI.jpg')\n",
        "img\n",
        "model = genai.GenerativeModel('gemini-1.5-flash')\n",
        "response = model.generate_content([\"Write a short, engaging blog post based on this picture\",img],stream=True)\n",
        "response.resolve()"
      ],
      "metadata": {
        "id": "MPpuD9E1aqFP"
      },
      "execution_count": 10,
      "outputs": []
    },
    {
      "cell_type": "code",
      "source": [
        "to_markdown(response.text)"
      ],
      "metadata": {
        "colab": {
          "base_uri": "https://localhost:8080/",
          "height": 480
        },
        "id": "nlMUAApDb9lJ",
        "outputId": "55f77eb7-9119-484b-ec5d-d2c2b4389ccf"
      },
      "execution_count": 11,
      "outputs": [
        {
          "output_type": "execute_result",
          "data": {
            "text/plain": [
              "<IPython.core.display.Markdown object>"
            ],
            "text/markdown": ">## Meal Prep Made Easy: Delicious & Healthy on the Go!\n>\n>Let's face it, sometimes juggling work, family, and a healthy lifestyle feels impossible *  But what if I told you there's a simple solution?  Enter: meal prepping!\n>\n>This isn't your grandma's sad desk lunch *  Check out these vibrant containers overflowing with goodness: perfectly portioned servings of delicious chicken and broccoli stir-fry served over fluffy rice *  Think colorful carrots, tender broccoli florets, and savory chicken – all packed with flavor and nutrients *\n>\n>Meal prepping doesn't have to be a chore *  Spend an hour or two on the weekend preparing several of these beauties, and you'll have healthy, satisfying lunches or dinners ready to grab and go throughout the week *  Say goodbye to unhealthy takeout and hello to effortless eating!\n>\n>**Ready to get started?**  Here are a few simple tips:\n>\n>* **Choose your favorite proteins and veggies:**  Get creative! Swap the chicken for tofu, beef, or shrimp * Experiment with different vegetables to keep things interesting *\n>* **Cook once, eat multiple times:**  Double or triple your recipes to make even more servings *\n>* **Portion it out:** Use containers like the ones pictured to easily manage your portions *\n>\n>So ditch the fast food and embrace the convenience and health benefits of meal prepping * Your taste buds and your waistline will thank you!  #mealprep #healthylifestyle #healthyeating #easyrecipes #lunchideas #dinnerideas\n"
          },
          "metadata": {},
          "execution_count": 11
        }
      ]
    },
    {
      "cell_type": "code",
      "source": [
        "response = model.generate_content([\"Generate an accurate caption for this page\",img])\n",
        "print(response.text)"
      ],
      "metadata": {
        "colab": {
          "base_uri": "https://localhost:8080/",
          "height": 451
        },
        "id": "hlxIjERicwUk",
        "outputId": "89c36e74-86a9-4afa-8351-1782e349dbe3"
      },
      "execution_count": 12,
      "outputs": [
        {
          "output_type": "stream",
          "name": "stdout",
          "text": [
            "Here are a few caption options for the image of prepared meal containers:\n",
            "\n",
            "**Option 1 (Simple & Direct):**\n",
            "\n",
            "> Healthy and delicious meal prep!  Chicken and broccoli with rice.\n",
            "\n",
            "**Option 2 (Slightly More Descriptive):**\n",
            "\n",
            "> Two perfectly portioned meals ready to go.  This chicken and veggie rice bowl is packed with flavor and nutrients.\n",
            "\n",
            "**Option 3 (Focus on Convenience):**\n",
            "\n",
            "> Weeknight dinners just got easier.  Meal prepping made simple with these tasty and healthy containers.\n",
            "\n",
            "**Option 4 (More Engaging):**\n",
            "\n",
            "> What's for dinner?  These chicken and broccoli rice bowls are the perfect healthy and convenient solution!  #mealprep #healthyfood #dinnerideas #easyrecipes\n",
            "\n",
            "**Option 5 (Question to Encourage Engagement):**\n",
            "\n",
            "> Chicken and broccoli or chicken and broccoli?  Which meal prep container would you choose?  Let us know in the comments! #mealprepsunday #healthylifestyle\n",
            "\n",
            "\n",
            "The best option will depend on the context where you plan to use the caption (e.g., social media, blog, website).\n",
            "\n"
          ]
        }
      ]
    },
    {
      "cell_type": "code",
      "source": [
        "from PIL import Image\n",
        "image_path = 'girl.jpg'\n",
        "image = Image.open(image_path)\n",
        "response = model.generate_content([\" what emotions can you detect in this image\",image])\n",
        "print(response.text)"
      ],
      "metadata": {
        "colab": {
          "base_uri": "https://localhost:8080/",
          "height": 186
        },
        "id": "bnSwrH5peY_Y",
        "outputId": "a85c23e1-d3b4-4fb1-ea2b-b3550ebe3e8a"
      },
      "execution_count": 13,
      "outputs": [
        {
          "output_type": "stream",
          "name": "stdout",
          "text": [
            "The woman in the image appears to be expressing:\n",
            "\n",
            "* **Confidence:** Her posture is upright, her gaze is direct, and her smile is self-assured.  The pointing gesture further suggests assertiveness.\n",
            "* **Friendliness:** The smile is warm and inviting.\n",
            "* **Helpfulness/Guidance:** The pointing gesture implies she is offering information or direction.\n",
            "* **Happiness/Positivity:** Her overall demeanor suggests a positive emotional state.\n",
            "\n",
            "There's no indication of negative emotions in the image.\n",
            "\n"
          ]
        }
      ]
    },
    {
      "cell_type": "code",
      "source": [
        "from PIL import Image\n",
        "image_path = 'img3.jpg'\n",
        "image = Image.open(image_path)\n",
        "response = model.generate_content([\" extract and read the text from this image\",image])\n",
        "print(response.text)"
      ],
      "metadata": {
        "colab": {
          "base_uri": "https://localhost:8080/",
          "height": 137
        },
        "id": "mssKIIPwjc8Z",
        "outputId": "c2935342-d098-4b0b-d975-6fd14143ff58"
      },
      "execution_count": 14,
      "outputs": [
        {
          "output_type": "stream",
          "name": "stdout",
          "text": [
            "Here's the text from the image:\n",
            "\n",
            "FAILURE is not the\n",
            "opposite of success\n",
            "it's PART OF\n",
            "SUCCESS\n"
          ]
        }
      ]
    },
    {
      "cell_type": "code",
      "source": [
        "image_path = \"logo.jpg\"\n",
        "image = Image.open(image_path)\n",
        "response = model.generate_content([\" what is this image, summarize it?\",image])\n",
        "print(response.text)"
      ],
      "metadata": {
        "id": "KwDlBOljj0i9",
        "colab": {
          "base_uri": "https://localhost:8080/",
          "height": 71
        },
        "outputId": "24bcc7fd-1ef6-40e3-8761-6feb22f940f7"
      },
      "execution_count": 16,
      "outputs": [
        {
          "output_type": "stream",
          "name": "stdout",
          "text": [
            "That's the logo for Amazon.  It's a wordmark showing the company name \"amazon\" in a bold, black sans-serif font, with a stylized orange smile underneath.  The smile is often interpreted as representing the company's commitment to customer satisfaction, or a representation of the Amazon River.\n",
            "\n"
          ]
        }
      ]
    },
    {
      "cell_type": "code",
      "source": [
        "image_path = 'product.jpg'\n",
        "image = Image.open(image_path)\n",
        "model1 = genai.GenerativeModel('gemini-1.5-flash')\n",
        "response = model1.generate_content([\" what is this image, summarize it?\",image])\n",
        "print(response.text)"
      ],
      "metadata": {
        "colab": {
          "base_uri": "https://localhost:8080/",
          "height": 71
        },
        "id": "dPqBAc4mNs6-",
        "outputId": "8fb5b059-a5eb-4a85-c79e-683cf2a6693a"
      },
      "execution_count": 17,
      "outputs": [
        {
          "output_type": "stream",
          "name": "stdout",
          "text": [
            "That's a pair of black over-ear headphones resting on a bright yellow background.  The image is a simple, clean product shot, likely for advertising or promotional purposes.\n",
            "\n"
          ]
        }
      ]
    },
    {
      "cell_type": "code",
      "source": [
        "response = model.generate_content([\"Suggest me similar products?\",image])\n",
        "print(response.text)"
      ],
      "metadata": {
        "colab": {
          "base_uri": "https://localhost:8080/",
          "height": 203
        },
        "id": "G3WXx460OYeK",
        "outputId": "dbeec742-5c4c-4320-d559-60ecbd5c3365"
      },
      "execution_count": 18,
      "outputs": [
        {
          "output_type": "stream",
          "name": "stdout",
          "text": [
            "That's a pair of over-ear headphones.  To suggest similar products, I need more information about what aspects of these headphones you like or dislike.  For example:\n",
            "\n",
            "* **Brand:** Do you prefer a specific brand? (e.g., Sony, Bose, Beats, Audio-Technica)\n",
            "* **Features:** Are you looking for noise cancellation, wireless connectivity (Bluetooth), a microphone, water resistance, a specific type of sound signature (bass-heavy, balanced, bright)?\n",
            "* **Price range:** What's your budget?\n",
            "* **Use case:** What will you primarily use them for? (e.g., music listening, gaming, phone calls, travel)\n",
            "* **Aesthetics:** Do you prefer a certain style or color?\n",
            "\n",
            "Once I have this information, I can give you much more relevant and helpful recommendations.\n",
            "\n"
          ]
        }
      ]
    },
    {
      "cell_type": "code",
      "source": [
        "response = model.generate_content([\"Boat brand?\",image])\n",
        "print(response.text)"
      ],
      "metadata": {
        "colab": {
          "base_uri": "https://localhost:8080/",
          "height": 71
        },
        "id": "Rd47a25yPmfB",
        "outputId": "912f90c5-679f-4108-e351-2074c7d59e04"
      },
      "execution_count": 20,
      "outputs": [
        {
          "output_type": "stream",
          "name": "stdout",
          "text": [
            "The image shows a pair of over-ear headphones.  There is no visible brand logo or marking on the headphones themselves.  Therefore, it's impossible to determine the boat brand from this image alone.\n",
            "\n"
          ]
        }
      ]
    },
    {
      "cell_type": "code",
      "source": [
        "image_path = 'invoice.jpg'\n",
        "image = Image.open(image_path)\n",
        "response = model.generate_content([\" Extract the price from this image?\",image])\n",
        "print(response.text)"
      ],
      "metadata": {
        "colab": {
          "base_uri": "https://localhost:8080/",
          "height": 54
        },
        "id": "c1Z_DQqdQ5Wb",
        "outputId": "eaebafa4-47fb-457e-9442-7e9b9a9876fc"
      },
      "execution_count": 23,
      "outputs": [
        {
          "output_type": "stream",
          "name": "stdout",
          "text": [
            "The price of each item is $10.00.  The subtotal is $100.00, and the grand total, including a 10% tax, is also $100.00.\n"
          ]
        }
      ]
    },
    {
      "cell_type": "code",
      "source": [
        "response = model.generate_content(['Extract the price, currency and any discounts from this image',image])\n",
        "print(response.text)"
      ],
      "metadata": {
        "colab": {
          "base_uri": "https://localhost:8080/",
          "height": 120
        },
        "id": "QumyaSR1STMg",
        "outputId": "ac064e8c-bd48-44f0-ee9e-225ab9511509"
      },
      "execution_count": 26,
      "outputs": [
        {
          "output_type": "stream",
          "name": "stdout",
          "text": [
            "Here's the extracted information from the image:\n",
            "\n",
            "* **Price:** $10.00 (per item)\n",
            "* **Currency:** USD ($)\n",
            "* **Discounts:**  There are no discounts applied.  The tax is 10% but this isn't a discount.  The Grand Total is the same as the Sub Total, indicating that there is no discount applied to the total.\n"
          ]
        }
      ]
    },
    {
      "cell_type": "code",
      "source": [
        "image_path = 'travel.jpg'\n",
        "image = Image.open(image_path)\n",
        "response = model.generate_content([\" Decribe\",image])\n",
        "print(response.text)"
      ],
      "metadata": {
        "colab": {
          "base_uri": "https://localhost:8080/",
          "height": 286
        },
        "id": "abFaVw2jS4Ke",
        "outputId": "5b3e0dc9-66e0-4577-f336-5c0ee231297d"
      },
      "execution_count": 27,
      "outputs": [
        {
          "output_type": "stream",
          "name": "stdout",
          "text": [
            "Here's a description of the image:\n",
            "\n",
            "Eye-level view of two men riding bicycles on a wet street in front of a building. \n",
            "\n",
            "\n",
            "Here's a breakdown of the scene:\n",
            "\n",
            "* **The Men:** Two men are the focal point, riding side-by-side. The man on the left wears a bright blue t-shirt and camouflage shorts. The man on the right wears a grey long-sleeved shirt, blue jeans, and a red baseball cap. Both appear to be of South Asian descent.\n",
            "\n",
            "* **The Bicycles:** They are riding relatively standard bicycles, one black and yellow, and the other white. Both bikes appear to be in good condition.\n",
            "\n",
            "* **The Setting:** The setting is an urban street scene. The background includes a building with a closed roller shutter door, a window with security bars, and some chairs visible inside.  There's a parked motorcycle to the far left. The street is wet, suggesting recent rain. The building has a slightly worn appearance.\n",
            "\n",
            "* **Overall Atmosphere:** The scene appears casual and suggests a leisurely ride. The slightly damp street and the relaxed postures of the cyclists contribute to a peaceful, everyday feel.  A man is visible in the background, seemingly inside the building, providing a sense of context to the setting.\n",
            "\n"
          ]
        }
      ]
    },
    {
      "cell_type": "code",
      "source": [
        "image_path = 'food.jpg'\n",
        "image = Image.open(image_path)\n",
        "response = model.generate_content([\" Decribe\",image])\n",
        "print(response.text)"
      ],
      "metadata": {
        "colab": {
          "base_uri": "https://localhost:8080/",
          "height": 533
        },
        "id": "lyTR6aUZTRkU",
        "outputId": "de0b0dfe-6f90-4650-f441-a1dfe97e5bb1"
      },
      "execution_count": 28,
      "outputs": [
        {
          "output_type": "stream",
          "name": "stdout",
          "text": [
            "This image is an infographic that illustrates the difference between countable and uncountable nouns in English, using food examples.\n",
            "\n",
            "**Countable Nouns:** These are nouns that can be counted.  They have singular and plural forms.  The image shows examples like:\n",
            "\n",
            "* Eggs\n",
            "* Banana\n",
            "* Olive\n",
            "* Fries\n",
            "* Burger\n",
            "* Hot dog\n",
            "* Apple\n",
            "* Carrots\n",
            "* Tomatoes\n",
            "* Watermelon\n",
            "\n",
            "**Uncountable Nouns:** These nouns cannot be easily counted. They usually don't have a plural form, and they are used with singular verbs. Examples from the infographic include:\n",
            "\n",
            "* Milk\n",
            "* Flour\n",
            "* Salt\n",
            "* Sugar\n",
            "* Jam\n",
            "* Meat\n",
            "* Rice\n",
            "* Honey\n",
            "* Tea\n",
            "* Cheese\n",
            "\n",
            "The infographic visually represents each noun with an image to aid understanding.  It's a simple and effective way to learn the distinction between countable and uncountable nouns.\n",
            "\n"
          ]
        }
      ]
    },
    {
      "cell_type": "code",
      "source": [
        "image_path = 'food.jpg'\n",
        "image = Image.open(image_path)\n",
        "response = model.generate_content([\"List all objects in this image and count how many of each are present\",image])\n",
        "print(response.text)"
      ],
      "metadata": {
        "colab": {
          "base_uri": "https://localhost:8080/",
          "height": 500
        },
        "id": "m3J-8RjhUIcG",
        "outputId": "7426beb9-5f45-437c-8b49-f5e1d53410d0"
      },
      "execution_count": 29,
      "outputs": [
        {
          "output_type": "stream",
          "name": "stdout",
          "text": [
            "Here's a count of the objects in the image:\n",
            "\n",
            "**Countables:**\n",
            "\n",
            "* Eggs: 3\n",
            "* Banana: 1\n",
            "* Olives: 2\n",
            "* Fries: 1 (portion)\n",
            "* Burger: 1\n",
            "* Hot dog: 1\n",
            "* Apple: 1\n",
            "* Carrots: 2\n",
            "* Tomatoes: 3\n",
            "* Watermelon: 1\n",
            "\n",
            "\n",
            "**Uncountables:**\n",
            "\n",
            "* Milk: 1 (bottle/carton)\n",
            "* Flour: 1 (bag)\n",
            "* Salt: 1 (shaker)\n",
            "* Sugar: 1 (bowl)\n",
            "* Jam: 1 (jar)\n",
            "* Meat: 2 (slices)\n",
            "* Rice: 1 (bowl)\n",
            "* Honey: 1 (jar)\n",
            "* Tea: 1 (cup)\n",
            "* Cheese: 1 (slice)\n"
          ]
        }
      ]
    },
    {
      "cell_type": "code",
      "source": [
        "pip install youtube-transcript-api pytube"
      ],
      "metadata": {
        "colab": {
          "base_uri": "https://localhost:8080/"
        },
        "id": "NfP7uAP9U5ju",
        "outputId": "5e5c1df4-b16f-48e9-b144-44ebae3d1978"
      },
      "execution_count": 30,
      "outputs": [
        {
          "output_type": "stream",
          "name": "stdout",
          "text": [
            "Collecting youtube-transcript-api\n",
            "  Downloading youtube_transcript_api-1.0.1-py3-none-any.whl.metadata (22 kB)\n",
            "Collecting pytube\n",
            "  Downloading pytube-15.0.0-py3-none-any.whl.metadata (5.0 kB)\n",
            "Requirement already satisfied: defusedxml<0.8.0,>=0.7.1 in /usr/local/lib/python3.11/dist-packages (from youtube-transcript-api) (0.7.1)\n",
            "Requirement already satisfied: requests in /usr/local/lib/python3.11/dist-packages (from youtube-transcript-api) (2.32.3)\n",
            "Requirement already satisfied: charset-normalizer<4,>=2 in /usr/local/lib/python3.11/dist-packages (from requests->youtube-transcript-api) (3.4.1)\n",
            "Requirement already satisfied: idna<4,>=2.5 in /usr/local/lib/python3.11/dist-packages (from requests->youtube-transcript-api) (3.10)\n",
            "Requirement already satisfied: urllib3<3,>=1.21.1 in /usr/local/lib/python3.11/dist-packages (from requests->youtube-transcript-api) (2.3.0)\n",
            "Requirement already satisfied: certifi>=2017.4.17 in /usr/local/lib/python3.11/dist-packages (from requests->youtube-transcript-api) (2025.1.31)\n",
            "Downloading youtube_transcript_api-1.0.1-py3-none-any.whl (1.9 MB)\n",
            "\u001b[2K   \u001b[90m━━━━━━━━━━━━━━━━━━━━━━━━━━━━━━━━━━━━━━━━\u001b[0m \u001b[32m1.9/1.9 MB\u001b[0m \u001b[31m25.4 MB/s\u001b[0m eta \u001b[36m0:00:00\u001b[0m\n",
            "\u001b[?25hDownloading pytube-15.0.0-py3-none-any.whl (57 kB)\n",
            "\u001b[2K   \u001b[90m━━━━━━━━━━━━━━━━━━━━━━━━━━━━━━━━━━━━━━━━\u001b[0m \u001b[32m57.6/57.6 kB\u001b[0m \u001b[31m4.8 MB/s\u001b[0m eta \u001b[36m0:00:00\u001b[0m\n",
            "\u001b[?25hInstalling collected packages: pytube, youtube-transcript-api\n",
            "Successfully installed pytube-15.0.0 youtube-transcript-api-1.0.1\n"
          ]
        }
      ]
    },
    {
      "cell_type": "code",
      "source": [
        "from youtube_transcript_api import YouTubeTranscriptApi\n",
        "def get_youtube_transcript(video_url):\n",
        "  video_id = video_url.split('v=')[1].split(\"&\")[0]\n",
        "  transcript= YouTubeTranscriptApi.get_transcript(video_id)\n",
        "  #\n",
        "  full_text = ' '.join([t['text'] for t in transcript])\n",
        "  return full_text\n",
        "video_url = \"https://www.youtube.com/watch?v=unYDoA8QGH0&list=PLWEpztHwA4ZT2QlHC74oIz4MsawcvE-QX\"\n",
        "video_transcript = get_youtube_transcript(video_url)\n",
        "print(video_transcript[:500])"
      ],
      "metadata": {
        "colab": {
          "base_uri": "https://localhost:8080/"
        },
        "id": "_VVt-YXtVFmv",
        "outputId": "32cf8b6c-f888-4bc6-a324-79c509d34513"
      },
      "execution_count": 32,
      "outputs": [
        {
          "output_type": "stream",
          "name": "stdout",
          "text": [
            "hi guys today I'm going to introduce you what is machine learning uh these are my presentation content what is machine learning what are the different applications of machine learning different types of machine learning and how to build a machine learning system or model then various kinds of algorithms and later on in this series we are going to take a Hands-On you know case studies or doing programming for various kinds of up algorithms so what is machine learning so machine learning is nothin\n"
          ]
        }
      ]
    },
    {
      "cell_type": "code",
      "source": [
        "def summarize_video(text):\n",
        "  model = genai.GenerativeModel('gemini-1.5-flash')\n",
        "  prompt = f\"Summarize the following Youtube video:\\n\\n{text}\"\n",
        "  response = model.generate_content(prompt)\n",
        "  return response.text\n",
        "summary = summarize_video(video_transcript)\n",
        "print(summary)"
      ],
      "metadata": {
        "colab": {
          "base_uri": "https://localhost:8080/",
          "height": 137
        },
        "id": "Vy86oHvmWTx3",
        "outputId": "965bc356-e375-4692-a784-abcf34f4d118"
      },
      "execution_count": 34,
      "outputs": [
        {
          "output_type": "stream",
          "name": "stdout",
          "text": [
            "This YouTube video is an introduction to machine learning.  The presenter covers the definition of machine learning as learning from data, emphasizing that it's a subfield of artificial intelligence.  Various applications are discussed, including speech recognition (Siri, Google Now), web search engines, recommendation systems, computer vision, information retrieval, and fraud detection.\n",
            "\n",
            "The video then categorizes machine learning into three types: supervised (data is labeled, used for classification and regression), unsupervised (data is unlabeled, used for clustering and dimensionality reduction), and reinforcement learning (an agent learns through trial and error and rewards/penalties).  Key concepts like classification (predicting categorical labels), regression (predicting continuous values), and the importance of understanding data relationships are explained.\n",
            "\n",
            "The presenter outlines the process of building a machine learning model, highlighting data preprocessing (cleaning, scaling, encoding, feature selection), algorithm selection, model building, and evaluation.  Different algorithms for classification and regression are mentioned, and the importance of building multiple models for comparison is stressed.  The video concludes by promising future lessons with hands-on case studies and algorithm implementation.  The Iris dataset is mentioned as a common example used in machine learning practice.\n",
            "\n"
          ]
        }
      ]
    },
    {
      "cell_type": "code",
      "source": [
        "def extract_video_insights(text):\n",
        "  model = genai.GenerativeModel('gemini-1.5-flash')\n",
        "  prompt = f\"Extract the key takeaways and insights from this video:\\n\\n{text}\"\n",
        "  response = model.generate_content(prompt)\n",
        "  return response.text\n",
        "insights = extract_video_insights(video_transcript)\n",
        "print(insights)"
      ],
      "metadata": {
        "colab": {
          "base_uri": "https://localhost:8080/",
          "height": 765
        },
        "id": "hhrgk3XIW4PL",
        "outputId": "2eb58398-364a-49bb-b8e5-4fd7c0f55e34"
      },
      "execution_count": 35,
      "outputs": [
        {
          "output_type": "stream",
          "name": "stdout",
          "text": [
            "This video provides an introduction to machine learning. Here are the key takeaways and insights:\n",
            "\n",
            "**What is Machine Learning?**\n",
            "\n",
            "* **Definition:** Machine learning is learning from data. It's a subfield of artificial intelligence that allows computers to learn from data without explicit programming.  The core idea is that a program's performance (P) on a task improves with experience (E).\n",
            "* **Key Components:** Training data (experience), machine learning algorithm, and a predictive model (the output).  The model is used to predict future events.\n",
            "* **Arthur Samuel's Definition:**  A field of study that gives computers the ability to learn without being explicitly programmed.\n",
            "\n",
            "**Types of Machine Learning:**\n",
            "\n",
            "* **Supervised Learning:** The training data includes labels or the desired outcome.  This is further divided into:\n",
            "    * **Classification:** Predicting a categorical outcome (e.g., spam/not spam, type of flower).\n",
            "    * **Regression:** Predicting a continuous outcome (e.g., salary, temperature).\n",
            "* **Unsupervised Learning:** The training data lacks labels.  The goal is to discover patterns and structure in the data (e.g., clustering, dimensionality reduction).\n",
            "* **Reinforcement Learning:** An agent learns through trial and error by interacting with an environment, receiving rewards or penalties based on its actions.  Games and robotics are common applications.\n",
            "\n",
            "**Applications of Machine Learning:**\n",
            "\n",
            "The video highlights numerous applications across various domains, including:\n",
            "\n",
            "* **Speech Recognition:**  powering virtual assistants like Siri and Google Assistant.\n",
            "* **Web Search:** Improving search engine results.\n",
            "* **Recommendation Systems:** Suggesting products or content.\n",
            "* **Computer Vision:**  Understanding images and videos (object recognition).\n",
            "* **Information Retrieval:**  Processing large amounts of data to find relevant information (like Google search).\n",
            "* **Fraud Detection:** Identifying malicious activities.\n",
            "\n",
            "**Building a Machine Learning Model (Workflow):**\n",
            "\n",
            "The process involves several steps:\n",
            "\n",
            "1. **Data Preprocessing:** Cleaning and preparing the data (handling missing values, scaling features, encoding categorical variables, feature selection/dimensionality reduction).\n",
            "2. **Algorithm Selection:** Choosing the appropriate algorithm (e.g., decision tree, random forest, K-nearest neighbors) based on the problem type (classification, regression).\n",
            "3. **Model Building:** Applying the algorithm to the training data to create a predictive model.\n",
            "4. **Model Evaluation:** Assessing the model's accuracy and performance.  This often involves comparing multiple models.\n",
            "\n",
            "**Important Terms:**\n",
            "\n",
            "* **Features/Attributes/Measurements/Dimensions:** Columns in the dataset (excluding the target variable).\n",
            "* **Samples/Instances/Observations:** Rows in the dataset.\n",
            "* **Target Variable/Response Variable/Class Label:** The column to be predicted.\n",
            "\n",
            "The video emphasizes the importance of hands-on experience and building multiple models for comparative analysis.  It promises future videos with practical implementation details and case studies using algorithms like linear regression.\n",
            "\n"
          ]
        }
      ]
    },
    {
      "cell_type": "code",
      "source": [
        "def ask_question_about_video(text, question):\n",
        "  model = genai.GenerativeModel('gemini-1.5-flash')\n",
        "  prompt = f\"The following is a Youtube transcript:\\n\\n{text}\\n\\nAnswer this question on the content\"\n",
        "  response = model.generate_content(prompt)\n",
        "  return response.text\n",
        "question = \"What is the main topic of the video?\"\n",
        "answer = ask_question_about_video(video_transcript, question)\n",
        "print(answer)\n"
      ],
      "metadata": {
        "colab": {
          "base_uri": "https://localhost:8080/",
          "height": 484
        },
        "id": "1VTYw57jXUKT",
        "outputId": "fd8b23d6-d790-46cc-fbe1-ca754789b92c"
      },
      "execution_count": 36,
      "outputs": [
        {
          "output_type": "stream",
          "name": "stdout",
          "text": [
            "This YouTube transcript is an introduction to machine learning.  The speaker covers the following key areas:\n",
            "\n",
            "**1. What is Machine Learning?**  Machine learning is defined as learning from data, a subfield of artificial intelligence that enables smarter applications.  The process involves using training data (past data or \"experience\") to build a model that can predict future events.  The speaker highlights Arthur Samuel's definition:  giving computers the ability to learn without explicit programming.  A key concept is that a machine learning system improves its performance (P) on a task (T) based on experience (E).\n",
            "\n",
            "**2. Applications of Machine Learning:** The speaker lists several applications, including:\n",
            "\n",
            "* **Speech Recognition:**  Building applications like Siri, Alexa, and Google Now.\n",
            "* **Web Search Systems:**  Using algorithms like Naive Bayes to process text and deliver relevant search results.\n",
            "* **Recommendation Systems:**  Suggesting products or other outcomes to users.\n",
            "* **Computer Vision:**  Analyzing images and videos to understand their content and identify objects.\n",
            "* **Information Retrieval:**  Processing large amounts of data (like Google Search) to deliver relevant documents.\n",
            "* **Fraud Detection:**  Identifying malicious activities.\n",
            "\n",
            "**3. Types of Machine Learning:** The transcript details three main types:\n",
            "\n",
            "* **Supervised Learning:** The training data is labeled, meaning the desired outcome is known.  This is further divided into:\n",
            "    * **Classification:** Predicting a categorical label (e.g., spam/not spam).\n",
            "    * **Regression:** Predicting a continuous value (e.g., salary, temperature).\n",
            "* **Unsupervised Learning:** The training data is unlabeled, and the goal is to discover patterns or structures in the data.  Examples include clustering and dimensionality reduction.\n",
            "* **Reinforcement Learning:** An agent learns through trial and error in an environment, receiving rewards or penalties for its actions.  Games and robotics are common examples.\n",
            "\n",
            "**4. Building a Machine Learning Model:** The speaker outlines the process, emphasizing data pre-processing (cleaning, scaling, encoding, feature selection, dimensionality reduction), algorithm selection (different algorithms are suitable for different tasks), model building, and model evaluation.  The importance of building multiple models and comparing their performance is stressed.  The Iris dataset is mentioned as a common example for practicing machine learning.\n",
            "\n",
            "**5. Key Terminology:** The speaker explains essential terms like features, attributes, samples, instances, observations, target variable, and response variable.\n",
            "\n",
            "In essence, the transcript provides a foundational overview of machine learning, covering its definition, applications, types, and the process of building and evaluating models.  It sets the stage for more in-depth discussions and practical implementations promised in future videos.\n",
            "\n"
          ]
        }
      ]
    },
    {
      "cell_type": "code",
      "source": [
        "def analyse_sentiment(text):\n",
        "  model = genai.GenerativeModel('gemini-1.5-flash')\n",
        "  prompt = f\"ANalyze the sentiment of the Youtube video:\\n\\n{text}\"\n",
        "  response = model.generate_content(prompt)\n",
        "  return response.text\n",
        "sentiment = analyse_sentiment(video_transcript)\n",
        "print(sentiment)"
      ],
      "metadata": {
        "colab": {
          "base_uri": "https://localhost:8080/",
          "height": 203
        },
        "id": "ptikAbtqYKHe",
        "outputId": "967a4699-44b3-4c53-866f-100b6ef4f7c2"
      },
      "execution_count": 37,
      "outputs": [
        {
          "output_type": "stream",
          "name": "stdout",
          "text": [
            "The sentiment of the YouTube video is overwhelmingly **positive and informative**.  The presenter maintains a consistently enthusiastic and helpful tone throughout.  Here's a breakdown:\n",
            "\n",
            "* **Positive:** The presenter is clearly passionate about machine learning, expressing excitement about the topic and its applications.  The language used is encouraging and aims to make the complex subject accessible (\"simply learning from the data\"). The offer to provide hands-on case studies and practical programming examples further reinforces the positive and helpful nature.  The inclusion of visuals (mentioned, though not directly analyzed here) likely contributes to a positive learning experience.\n",
            "\n",
            "* **Informative:** The video's primary purpose is educational.  The presenter systematically covers key concepts in machine learning, providing clear definitions and explanations.  The structure is well-organized, moving logically from basic definitions to applications, types of machine learning, and the model-building process. The use of examples (e.g., spam detection, speech recognition) helps to illustrate the concepts concretely.\n",
            "\n",
            "* **Neutral:** There are no overtly negative sentiments expressed.  The presenter acknowledges challenges (e.g., dealing with \"dirty data\"), but this is presented as a normal part of the process rather than a source of frustration or negativity.\n",
            "\n",
            "In summary, the video's sentiment is strongly positive, driven by the presenter's enthusiasm and the clear intention to educate and empower viewers to learn about machine learning.  The tone is approachable and encouraging, making it likely to resonate well with the target audience.\n",
            "\n"
          ]
        }
      ]
    },
    {
      "cell_type": "code",
      "source": [],
      "metadata": {
        "id": "SZBCDSltYk3J"
      },
      "execution_count": null,
      "outputs": []
    }
  ]
}