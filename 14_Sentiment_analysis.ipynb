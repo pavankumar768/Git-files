{
 "cells": [
  {
   "cell_type": "code",
   "execution_count": 48,
   "id": "228eab3c-7ecc-471b-86d5-36cb94ff7f14",
   "metadata": {},
   "outputs": [],
   "source": [
    "import numpy as np\n",
    "import pandas as pd\n",
    "import matplotlib.pyplot as plt\n",
    "df = pd.read_csv('Reviews.csv')"
   ]
  },
  {
   "cell_type": "code",
   "execution_count": 49,
   "id": "3088073f-39a7-4980-9289-d70201a18344",
   "metadata": {},
   "outputs": [
    {
     "data": {
      "text/html": [
       "<div>\n",
       "<style scoped>\n",
       "    .dataframe tbody tr th:only-of-type {\n",
       "        vertical-align: middle;\n",
       "    }\n",
       "\n",
       "    .dataframe tbody tr th {\n",
       "        vertical-align: top;\n",
       "    }\n",
       "\n",
       "    .dataframe thead th {\n",
       "        text-align: right;\n",
       "    }\n",
       "</style>\n",
       "<table border=\"1\" class=\"dataframe\">\n",
       "  <thead>\n",
       "    <tr style=\"text-align: right;\">\n",
       "      <th></th>\n",
       "      <th>Id</th>\n",
       "      <th>ProductId</th>\n",
       "      <th>UserId</th>\n",
       "      <th>ProfileName</th>\n",
       "      <th>HelpfulnessNumerator</th>\n",
       "      <th>HelpfulnessDenominator</th>\n",
       "      <th>Score</th>\n",
       "      <th>Time</th>\n",
       "      <th>Summary</th>\n",
       "      <th>Text</th>\n",
       "    </tr>\n",
       "  </thead>\n",
       "  <tbody>\n",
       "    <tr>\n",
       "      <th>0</th>\n",
       "      <td>1</td>\n",
       "      <td>B001E4KFG0</td>\n",
       "      <td>A3SGXH7AUHU8GW</td>\n",
       "      <td>delmartian</td>\n",
       "      <td>1</td>\n",
       "      <td>1</td>\n",
       "      <td>5</td>\n",
       "      <td>1303862400</td>\n",
       "      <td>Good Quality Dog Food</td>\n",
       "      <td>I have bought several of the Vitality canned d...</td>\n",
       "    </tr>\n",
       "    <tr>\n",
       "      <th>1</th>\n",
       "      <td>2</td>\n",
       "      <td>B00813GRG4</td>\n",
       "      <td>A1D87F6ZCVE5NK</td>\n",
       "      <td>dll pa</td>\n",
       "      <td>0</td>\n",
       "      <td>0</td>\n",
       "      <td>1</td>\n",
       "      <td>1346976000</td>\n",
       "      <td>Not as Advertised</td>\n",
       "      <td>Product arrived labeled as Jumbo Salted Peanut...</td>\n",
       "    </tr>\n",
       "    <tr>\n",
       "      <th>2</th>\n",
       "      <td>3</td>\n",
       "      <td>B000LQOCH0</td>\n",
       "      <td>ABXLMWJIXXAIN</td>\n",
       "      <td>Natalia Corres \"Natalia Corres\"</td>\n",
       "      <td>1</td>\n",
       "      <td>1</td>\n",
       "      <td>4</td>\n",
       "      <td>1219017600</td>\n",
       "      <td>\"Delight\" says it all</td>\n",
       "      <td>This is a confection that has been around a fe...</td>\n",
       "    </tr>\n",
       "    <tr>\n",
       "      <th>3</th>\n",
       "      <td>4</td>\n",
       "      <td>B000UA0QIQ</td>\n",
       "      <td>A395BORC6FGVXV</td>\n",
       "      <td>Karl</td>\n",
       "      <td>3</td>\n",
       "      <td>3</td>\n",
       "      <td>2</td>\n",
       "      <td>1307923200</td>\n",
       "      <td>Cough Medicine</td>\n",
       "      <td>If you are looking for the secret ingredient i...</td>\n",
       "    </tr>\n",
       "    <tr>\n",
       "      <th>4</th>\n",
       "      <td>5</td>\n",
       "      <td>B006K2ZZ7K</td>\n",
       "      <td>A1UQRSCLF8GW1T</td>\n",
       "      <td>Michael D. Bigham \"M. Wassir\"</td>\n",
       "      <td>0</td>\n",
       "      <td>0</td>\n",
       "      <td>5</td>\n",
       "      <td>1350777600</td>\n",
       "      <td>Great taffy</td>\n",
       "      <td>Great taffy at a great price.  There was a wid...</td>\n",
       "    </tr>\n",
       "  </tbody>\n",
       "</table>\n",
       "</div>"
      ],
      "text/plain": [
       "   Id   ProductId          UserId                      ProfileName  \\\n",
       "0   1  B001E4KFG0  A3SGXH7AUHU8GW                       delmartian   \n",
       "1   2  B00813GRG4  A1D87F6ZCVE5NK                           dll pa   \n",
       "2   3  B000LQOCH0   ABXLMWJIXXAIN  Natalia Corres \"Natalia Corres\"   \n",
       "3   4  B000UA0QIQ  A395BORC6FGVXV                             Karl   \n",
       "4   5  B006K2ZZ7K  A1UQRSCLF8GW1T    Michael D. Bigham \"M. Wassir\"   \n",
       "\n",
       "   HelpfulnessNumerator  HelpfulnessDenominator  Score        Time  \\\n",
       "0                     1                       1      5  1303862400   \n",
       "1                     0                       0      1  1346976000   \n",
       "2                     1                       1      4  1219017600   \n",
       "3                     3                       3      2  1307923200   \n",
       "4                     0                       0      5  1350777600   \n",
       "\n",
       "                 Summary                                               Text  \n",
       "0  Good Quality Dog Food  I have bought several of the Vitality canned d...  \n",
       "1      Not as Advertised  Product arrived labeled as Jumbo Salted Peanut...  \n",
       "2  \"Delight\" says it all  This is a confection that has been around a fe...  \n",
       "3         Cough Medicine  If you are looking for the secret ingredient i...  \n",
       "4            Great taffy  Great taffy at a great price.  There was a wid...  "
      ]
     },
     "execution_count": 49,
     "metadata": {},
     "output_type": "execute_result"
    }
   ],
   "source": [
    "df.head()"
   ]
  },
  {
   "cell_type": "code",
   "execution_count": 52,
   "id": "947259ff-428d-4333-9163-14bad49bb29c",
   "metadata": {},
   "outputs": [
    {
     "name": "stdout",
     "output_type": "stream",
     "text": [
      "<class 'pandas.core.frame.DataFrame'>\n",
      "RangeIndex: 568454 entries, 0 to 568453\n",
      "Data columns (total 10 columns):\n",
      " #   Column                  Non-Null Count   Dtype \n",
      "---  ------                  --------------   ----- \n",
      " 0   Id                      568454 non-null  int64 \n",
      " 1   ProductId               568454 non-null  object\n",
      " 2   UserId                  568454 non-null  object\n",
      " 3   ProfileName             568428 non-null  object\n",
      " 4   HelpfulnessNumerator    568454 non-null  int64 \n",
      " 5   HelpfulnessDenominator  568454 non-null  int64 \n",
      " 6   Score                   568454 non-null  int64 \n",
      " 7   Time                    568454 non-null  int64 \n",
      " 8   Summary                 568427 non-null  object\n",
      " 9   Text                    568454 non-null  object\n",
      "dtypes: int64(5), object(5)\n",
      "memory usage: 43.4+ MB\n"
     ]
    }
   ],
   "source": [
    "df.info()"
   ]
  },
  {
   "cell_type": "code",
   "execution_count": 54,
   "id": "5a2fc639-0812-451a-8644-02b8b7d90341",
   "metadata": {},
   "outputs": [
    {
     "data": {
      "text/plain": [
       "0    Good Quality Dog Food\n",
       "1        Not as Advertised\n",
       "2    \"Delight\" says it all\n",
       "3           Cough Medicine\n",
       "4              Great taffy\n",
       "Name: Summary, dtype: object"
      ]
     },
     "execution_count": 54,
     "metadata": {},
     "output_type": "execute_result"
    }
   ],
   "source": [
    "df.Summary.head()"
   ]
  },
  {
   "cell_type": "code",
   "execution_count": 56,
   "id": "3cc60f6e-398b-4e9f-988b-d02a3c631b73",
   "metadata": {},
   "outputs": [
    {
     "data": {
      "text/plain": [
       "0    I have bought several of the Vitality canned d...\n",
       "1    Product arrived labeled as Jumbo Salted Peanut...\n",
       "2    This is a confection that has been around a fe...\n",
       "3    If you are looking for the secret ingredient i...\n",
       "4    Great taffy at a great price.  There was a wid...\n",
       "Name: Text, dtype: object"
      ]
     },
     "execution_count": 56,
     "metadata": {},
     "output_type": "execute_result"
    }
   ],
   "source": [
    "df.Text.head()"
   ]
  },
  {
   "cell_type": "code",
   "execution_count": 58,
   "id": "310f6e6e-452f-4a0d-abc5-229b7b47b00b",
   "metadata": {},
   "outputs": [
    {
     "name": "stdout",
     "output_type": "stream",
     "text": [
      "Requirement already satisfied: textblob in /opt/anaconda3/lib/python3.12/site-packages (0.19.0)\n",
      "Requirement already satisfied: nltk>=3.9 in /opt/anaconda3/lib/python3.12/site-packages (from textblob) (3.9.1)\n",
      "Requirement already satisfied: click in /opt/anaconda3/lib/python3.12/site-packages (from nltk>=3.9->textblob) (8.1.7)\n",
      "Requirement already satisfied: joblib in /opt/anaconda3/lib/python3.12/site-packages (from nltk>=3.9->textblob) (1.4.2)\n",
      "Requirement already satisfied: regex>=2021.8.3 in /opt/anaconda3/lib/python3.12/site-packages (from nltk>=3.9->textblob) (2024.9.11)\n",
      "Requirement already satisfied: tqdm in /opt/anaconda3/lib/python3.12/site-packages (from nltk>=3.9->textblob) (4.66.5)\n"
     ]
    }
   ],
   "source": [
    "!pip install textblob"
   ]
  },
  {
   "cell_type": "code",
   "execution_count": 60,
   "id": "f88d271e-f3b2-4c71-993c-450963062884",
   "metadata": {},
   "outputs": [],
   "source": [
    "import nltk\n",
    "#nltk.download('wordnet')"
   ]
  },
  {
   "cell_type": "code",
   "execution_count": null,
   "id": "96e88a02-8463-4d96-b779-0191c0683443",
   "metadata": {},
   "outputs": [],
   "source": [
    "import pandas as pd\n",
    "from nltk.corpus import stopwords\n",
    "from textblob import TextBlob, Word\n",
    "#df = pd.DataFrame({'Text': [\"This is an example sentence! It's great, isn't it?\"]})\n",
    "df['Text'] = df['Text'].apply(lambda x: \" \".join(x.lower() for x in x.split()))\n",
    "df['Text'] = df['Text'].str.replace(r'[^\\w\\s]', '', regex=True)\n",
    "stop = set(stopwords.words('english'))\n",
    "df['Text'] = df['Text'].apply(lambda x: \" \".join(word for word in x.split() if word not in stop))\n",
    "df['Text'] = df['Text'].apply(lambda x: str(TextBlob(x).correct()))\n",
    "df['Text'] = df['Text'].apply(lambda x: \" \".join([Word(word).lemmatize() for word in x.split()]))\n",
    "print(df['Text'].head())\n"
   ]
  },
  {
   "cell_type": "code",
   "execution_count": null,
   "id": "c233f66b-015c-44c1-ae96-948af775d212",
   "metadata": {},
   "outputs": [],
   "source": [
    "reviews = df\n",
    "reviews.dropna(inplace=True)\n",
    "reviews.Score.hist(bins=5,grid=False)\n",
    "plt.show()\n",
    "print(reviews.groupby('Score').count().id)"
   ]
  },
  {
   "cell_type": "code",
   "execution_count": 46,
   "id": "dbe90435-7222-4089-a9a9-9668becc4727",
   "metadata": {},
   "outputs": [
    {
     "data": {
      "text/html": [
       "<div>\n",
       "<style scoped>\n",
       "    .dataframe tbody tr th:only-of-type {\n",
       "        vertical-align: middle;\n",
       "    }\n",
       "\n",
       "    .dataframe tbody tr th {\n",
       "        vertical-align: top;\n",
       "    }\n",
       "\n",
       "    .dataframe thead th {\n",
       "        text-align: right;\n",
       "    }\n",
       "</style>\n",
       "<table border=\"1\" class=\"dataframe\">\n",
       "  <thead>\n",
       "    <tr style=\"text-align: right;\">\n",
       "      <th></th>\n",
       "      <th>Text</th>\n",
       "    </tr>\n",
       "  </thead>\n",
       "  <tbody>\n",
       "    <tr>\n",
       "      <th>0</th>\n",
       "      <td>example sentence great isn</td>\n",
       "    </tr>\n",
       "  </tbody>\n",
       "</table>\n",
       "</div>"
      ],
      "text/plain": [
       "                         Text\n",
       "0  example sentence great isn"
      ]
     },
     "execution_count": 46,
     "metadata": {},
     "output_type": "execute_result"
    }
   ],
   "source": [
    "df.head()"
   ]
  },
  {
   "cell_type": "code",
   "execution_count": null,
   "id": "43c85c34-2981-479f-b8f2-c6ff259a5ad0",
   "metadata": {},
   "outputs": [],
   "source": []
  },
  {
   "cell_type": "code",
   "execution_count": null,
   "id": "7fe3bfc8-97e0-4d7f-876c-d7ad901be4e7",
   "metadata": {},
   "outputs": [],
   "source": [
    "score_1 = reviews[reviews['Score']==1].sample(n=18)\n",
    "score_2 = reviews[reviews['Score']==2].sample(n=18)\n",
    "score_3 = reviews[reviews['Score']==3].sample(n=18)\n",
    "score_4 = reviews[reviews['Score']==4].sample(n=18)\n",
    "score_5 = reviews[reviews['Score']==5].sample(n=18)"
   ]
  },
  {
   "cell_type": "code",
   "execution_count": null,
   "id": "4e34733b-9086-46b2-986f-a64d3a10e00a",
   "metadata": {},
   "outputs": [],
   "source": [
    "dateset.reviews_sample = pd.concat([score_1,score_2,score_3,score_4,score_5],axis=0)\n",
    "reviews_sample.reset_index(drop=True,inplace=True)\n",
    "print(reviews_sample.groupby('Score').count().id)\n"
   ]
  },
  {
   "cell_type": "code",
   "execution_count": null,
   "id": "a9227a36-3d75-4a7c-be75-7b5791541af5",
   "metadata": {},
   "outputs": [],
   "source": [
    "reviews_str = \" \".join(reviews_sample[\"Summary\"].to_numpy())\n",
    "reviews_sample.Summary.str.cat()\n",
    "wordcloud = WordCloud(background_color='white').generate(reviews_str).plt.figure(figsize=(10,10))\n",
    "plt.imshow(wordcloud,interpolation='bilinear')\n",
    "plt.axis('off')\n",
    "plt.show()"
   ]
  },
  {
   "cell_type": "code",
   "execution_count": null,
   "id": "d73678fd-87f5-44c7-8322-a586d59466d6",
   "metadata": {},
   "outputs": [],
   "source": [
    "negative_reviews=reviews_sample[reviews_sample['Score'].isin([1,2])]\n",
    "positive_reviews=reviews_sample[reviews_sample['Score'].isin([4,5])]\n",
    "negative_reviews_str=negative_reviews.Summary.str.cat()\n",
    "positive_reviews_str=positive_reviews_Summary.str.cat()"
   ]
  },
  {
   "cell_type": "code",
   "execution_count": null,
   "id": "c37445d5-31bb-4808-ae94-fcf7d34da48a",
   "metadata": {},
   "outputs": [],
   "source": [
    "wordcloud_negative=wordcloud(background_color='white')\\\n",
    ".generate(negative_reviews_str)\n",
    "wordcloud_positive=wordcloud(background_color='white')\\\n",
    ".generate(negative_reviews_str)\n",
    "fig=plt.figure(figsize=(10,10))\n",
    "ax1=fig.add_subplot(211)\n",
    "ax1.imshow(wordcloud_negative,interpolation='bilinear')\n",
    "axl.axis(\"off\")\n",
    "ax1,set_title('Reviews with negative Scores',fontsize=20)\n",
    "ax2=fig.add_subplot(212)\n",
    "ax2.imshow(wordcloud_positive,interpolation='bilinear')\n",
    "ax2.axis(\"off\")\n",
    "ax2.set_title('Reviews with Postive Score',fontsize=20)\n",
    "plt.show()"
   ]
  },
  {
   "cell_type": "code",
   "execution_count": null,
   "id": "ce72ddab-31db-4dfe-a4ac-9ca0cd6fbc2b",
   "metadata": {},
   "outputs": [],
   "source": [
    "!pip install vaderSentiment"
   ]
  },
  {
   "cell_type": "code",
   "execution_count": null,
   "id": "a4a1eefb-96ab-4953-a417-628d4a1eb5ed",
   "metadata": {},
   "outputs": [],
   "source": [
    "import seabrn as sns\n",
    "from vaderSentiment.vaderSentiment import SentimentIntensityAnalyzer\n",
    "plt.style.use('fivethirtyeight')\n",
    "cp = sns.color_palette()\n",
    "analyzer = SentimentAnalyzer()\n",
    "emptyline=[]\n",
    "for row in df['Text']:\n",
    "    vs = analyzer.polarity_scores[row]\n",
    "    emptyline.append(vs)"
   ]
  },
  {
   "cell_type": "code",
   "execution_count": null,
   "id": "79692507-91c8-499d-9f83-57e2d30d209d",
   "metadata": {},
   "outputs": [],
   "source": [
    "df_sentiments = pd.DataFrame(emptyline)\n",
    "df_sentiments.head()"
   ]
  },
  {
   "cell_type": "code",
   "execution_count": null,
   "id": "78f7aac6-6e26-4031-9a3e-4055cf392cef",
   "metadata": {},
   "outputs": [],
   "source": [
    "df_c = pd.concat([df.reset_index(drop=True),df_sentiments],axis=1)\n",
    "df_c.head(3)"
   ]
  },
  {
   "cell_type": "code",
   "execution_count": null,
   "id": "cbc3b79f-6b97-450d-887f-3bc175e7ce0e",
   "metadata": {},
   "outputs": [],
   "source": [
    "df_c['Sentiment'] = np.where(df_c['compound'].=0,'Postive','Negative')\n",
    "df_c.head(3)"
   ]
  },
  {
   "cell_type": "code",
   "execution_count": null,
   "id": "67c59202-ca45-43ed-8f39-3d2005822565",
   "metadata": {},
   "outputs": [],
   "source": [
    "result = df_c['Sentiment'].value_counts()\n",
    "print(result)\n",
    "result.plot(king='bar',rot=30)"
   ]
  }
 ],
 "metadata": {
  "kernelspec": {
   "display_name": "Python [conda env:base] *",
   "language": "python",
   "name": "conda-base-py"
  },
  "language_info": {
   "codemirror_mode": {
    "name": "ipython",
    "version": 3
   },
   "file_extension": ".py",
   "mimetype": "text/x-python",
   "name": "python",
   "nbconvert_exporter": "python",
   "pygments_lexer": "ipython3",
   "version": "3.12.7"
  }
 },
 "nbformat": 4,
 "nbformat_minor": 5
}
